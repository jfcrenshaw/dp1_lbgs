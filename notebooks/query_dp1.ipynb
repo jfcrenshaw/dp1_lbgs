{
 "cells": [
  {
   "cell_type": "markdown",
   "id": "58d368fd-e1c7-4d74-8c74-e509dff35b5d",
   "metadata": {},
   "source": [
    "#### *This notebook is meant to be run on the RSP*\n",
    "\n",
    "This notebook loads photometry for DP1 objects that have SNR > 5 in the $i$ band and save them in a fits table.  \n",
    "It also loads the DP1 photo-z estimates, and saves them, without photometry, in a dataframe."
   ]
  },
  {
   "cell_type": "code",
   "execution_count": null,
   "id": "74ca6d19-89d4-447a-9ae0-697c19d60bb6",
   "metadata": {},
   "outputs": [],
   "source": [
    "from lsst.rsp import get_tap_service"
   ]
  },
  {
   "cell_type": "code",
   "execution_count": null,
   "id": "1217f5b2-1ffd-4f27-8ac8-450ea9a01471",
   "metadata": {},
   "outputs": [],
   "source": [
    "# Get the TAP service\n",
    "service = get_tap_service(\"tap\")"
   ]
  },
  {
   "cell_type": "code",
   "execution_count": null,
   "id": "cb902e95-a604-4b4d-9668-addbabe0f182",
   "metadata": {},
   "outputs": [],
   "source": [
    "query = \"\"\"\n",
    "SELECT\n",
    "    objectID,\n",
    "    coord_ra,\n",
    "    coord_dec,\n",
    "    refBand,\n",
    "    ebv,\n",
    "    u_psfFlux,\n",
    "    u_psfFluxErr,\n",
    "    g_psfFlux,\n",
    "    g_psfFluxErr,\n",
    "    r_psfFlux,\n",
    "    r_psfFluxErr,\n",
    "    i_psfFlux,\n",
    "    i_psfFluxErr,\n",
    "    z_psfFlux,\n",
    "    z_psfFluxErr,\n",
    "    y_psfFlux,\n",
    "    y_psfFluxErr,\n",
    "    u_cModelFlux,\n",
    "    u_cModelFluxErr,\n",
    "    g_cModelFlux,\n",
    "    g_cModelFluxErr,\n",
    "    r_cModelFlux,\n",
    "    r_cModelFluxErr,\n",
    "    i_cModelFlux,\n",
    "    i_cModelFluxErr,\n",
    "    z_cModelFlux,\n",
    "    z_cModelFluxErr,\n",
    "    y_cModelFlux,\n",
    "    y_cModelFluxErr,\n",
    "    scisql_nanojanskyToAbMag(u_cModelFlux) AS u_cModelMag,\n",
    "    scisql_nanojanskyToAbMagSigma(u_cModelFlux, u_cModelFluxErr) AS u_cModelMagErr,\n",
    "    scisql_nanojanskyToAbMag(g_cModelFlux) AS g_cModelMag,\n",
    "    scisql_nanojanskyToAbMagSigma(g_cModelFlux, g_cModelFluxErr) AS g_cModelMagErr,\n",
    "    scisql_nanojanskyToAbMag(r_cModelFlux) AS r_cModelMag,\n",
    "    scisql_nanojanskyToAbMagSigma(r_cModelFlux, r_cModelFluxErr) AS r_cModelMagErr,\n",
    "    scisql_nanojanskyToAbMag(i_cModelFlux) AS i_cModelMag,\n",
    "    scisql_nanojanskyToAbMagSigma(i_cModelFlux, i_cModelFluxErr) AS i_cModelMagErr,\n",
    "    scisql_nanojanskyToAbMag(z_cModelFlux) AS z_cModelMag,\n",
    "    scisql_nanojanskyToAbMagSigma(z_cModelFlux, z_cModelFluxErr) AS z_cModelMagErr,\n",
    "    scisql_nanojanskyToAbMag(y_cModelFlux) AS y_cModelMag,\n",
    "    scisql_nanojanskyToAbMagSigma(y_cModelFlux, y_cModelFluxErr) AS y_cModelMagErr,\n",
    "    scisql_nanojanskyToAbMag(u_gaap1p0Flux) AS u_gaap1p0Mag,\n",
    "    scisql_nanojanskyToAbMagSigma(u_gaap1p0Flux, u_gaap1p0FluxErr) AS u_gaap1p0MagErr,\n",
    "    scisql_nanojanskyToAbMag(g_gaap1p0Flux) AS g_gaap1p0Mag,\n",
    "    scisql_nanojanskyToAbMagSigma(g_gaap1p0Flux, g_gaap1p0FluxErr) AS g_gaap1p0MagErr,\n",
    "    scisql_nanojanskyToAbMag(r_gaap1p0Flux) AS r_gaap1p0Mag,\n",
    "    scisql_nanojanskyToAbMagSigma(r_gaap1p0Flux, r_gaap1p0FluxErr) AS r_gaap1p0MagErr,\n",
    "    scisql_nanojanskyToAbMag(i_gaap1p0Flux) AS i_gaap1p0Mag,\n",
    "    scisql_nanojanskyToAbMagSigma(i_gaap1p0Flux, i_gaap1p0FluxErr) AS i_gaap1p0MagErr,\n",
    "    scisql_nanojanskyToAbMag(z_gaap1p0Flux) AS z_gaap1p0Mag,\n",
    "    scisql_nanojanskyToAbMagSigma(z_gaap1p0Flux, z_gaap1p0FluxErr) AS z_gaap1p0MagErr,\n",
    "    scisql_nanojanskyToAbMag(y_gaap1p0Flux) AS y_gaap1p0Mag,\n",
    "    scisql_nanojanskyToAbMagSigma(y_gaap1p0Flux, y_gaap1p0FluxErr) AS y_gaap1p0MagErr\n",
    "FROM dp1.Object\n",
    "WHERE\n",
    "    i_cModelFlux / i_cModelFluxErr > 5 AND\n",
    "    u_cModel_flag = 0 AND\n",
    "    g_cModel_flag = 0 AND\n",
    "    r_cModel_flag = 0 AND\n",
    "    i_cModel_flag = 0 AND\n",
    "    z_cModel_flag = 0 AND\n",
    "    y_cModel_flag = 0 AND\n",
    "    u_gaapFlux_flag = 0 AND\n",
    "    g_gaapFlux_flag = 0 AND\n",
    "    r_gaapFlux_flag = 0 AND\n",
    "    i_gaapFlux_flag = 0 AND\n",
    "    z_gaapFlux_flag = 0 AND\n",
    "    y_gaapFlux_flag = 0 AND\n",
    "    CONTAINS(POINT('ICRS', coord_ra, coord_dec), CIRCLE('ICRS', 53.1, -28.1, 0.75)) = 1\n",
    "\"\"\"\n",
    "# Last query selects only ECDFS"
   ]
  },
  {
   "cell_type": "code",
   "execution_count": null,
   "id": "16f8f3c2-a344-4b68-aba6-426205b54f06",
   "metadata": {},
   "outputs": [],
   "source": [
    "job = service.submit_job(query)\n",
    "job.run()\n",
    "job.wait(phases=[\"COMPLETED\", \"ERROR\"])\n",
    "print(\"Job phase is\", job.phase)\n",
    "job.raise_if_error()"
   ]
  },
  {
   "cell_type": "code",
   "execution_count": null,
   "id": "ee0f86a7-633d-4afd-81c5-96e686925f7a",
   "metadata": {},
   "outputs": [],
   "source": [
    "results = job.fetch_result()\n",
    "cat = results.to_table()\n",
    "cat"
   ]
  },
  {
   "cell_type": "code",
   "execution_count": null,
   "id": "d16aaa15-b721-464d-9f21-84138cff716a",
   "metadata": {},
   "outputs": [],
   "source": [
    "cat.write(\"../data/dp1_ecdfs_raw.fits\")"
   ]
  },
  {
   "cell_type": "markdown",
   "id": "197bd1fa-a188-452c-b623-96aabfd00329",
   "metadata": {},
   "source": [
    "### *Now* the DP1 photo-z's"
   ]
  },
  {
   "cell_type": "code",
   "execution_count": null,
   "id": "dbe8d3b4",
   "metadata": {},
   "outputs": [],
   "source": [
    "from upath import UPath\n",
    "import lsdb"
   ]
  },
  {
   "cell_type": "code",
   "execution_count": null,
   "id": "48c1587e",
   "metadata": {},
   "outputs": [],
   "source": [
    "# Load the catalog as saved in LSDB\n",
    "base_path = UPath(\"/rubin/lsdb_data\")\n",
    "dp1_pz_catalog = lsdb.open_catalog(base_path / \"object_photoz\")\n",
    "dp1_pz_catalog = dp1_pz_catalog.compute().to_pandas()\n",
    "\n",
    "# Now cut out the mag columns\n",
    "dp1_pz_catalog = dp1_pz_catalog[[col for col in obj.columns if \"Mag\" not in col]]\n",
    "\n",
    "# Save\n",
    "dp1_pz_catalog.to_parquet(\"../data/photozs.parquet\")\n",
    "\n",
    "dp1_pz_catalog"
   ]
  }
 ],
 "metadata": {
  "kernelspec": {
   "display_name": "LSST",
   "language": "python",
   "name": "lsst"
  },
  "language_info": {
   "codemirror_mode": {
    "name": "ipython",
    "version": 3
   },
   "file_extension": ".py",
   "mimetype": "text/x-python",
   "name": "python",
   "nbconvert_exporter": "python",
   "pygments_lexer": "ipython3",
   "version": "3.12.11"
  }
 },
 "nbformat": 4,
 "nbformat_minor": 5
}
