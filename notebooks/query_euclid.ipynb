{
 "cells": [
  {
   "cell_type": "code",
   "execution_count": null,
   "id": "2faeea86",
   "metadata": {},
   "outputs": [],
   "source": [
    "from astroquery.esa.euclid import Euclid\n",
    "import pandas as pd"
   ]
  },
  {
   "cell_type": "code",
   "execution_count": null,
   "id": "b18b8a06",
   "metadata": {},
   "outputs": [],
   "source": [
    "# Functions to query the schema\n",
    "def list_tables():\n",
    "    tables = Euclid.load_tables(only_names=True)\n",
    "    for table in tables:\n",
    "        print(table.name)\n",
    "\n",
    "\n",
    "def get_schema(table_name):\n",
    "    table = Euclid.load_table(table_name)\n",
    "    print(f\"Loaded {table.name} with {len(table.columns)} columns\\n\")\n",
    "\n",
    "    data = []\n",
    "    for col in table.columns:\n",
    "        data.append([col.name, col.unit, col.description])\n",
    "\n",
    "    df = pd.DataFrame(\n",
    "        data,\n",
    "        columns=[\"name\", \"unit\", \"description\"],\n",
    "    )\n",
    "\n",
    "    return df.style.set_properties(**{\"text-align\": \"left\"}).set_table_styles(\n",
    "        [{\"selector\": \"th\", \"props\": [(\"text-align\", \"left\")]}]\n",
    "    )"
   ]
  },
  {
   "cell_type": "code",
   "execution_count": null,
   "id": "cf2ee74f",
   "metadata": {},
   "outputs": [],
   "source": [
    "list_tables()"
   ]
  },
  {
   "cell_type": "code",
   "execution_count": null,
   "id": "5bd7ebc6",
   "metadata": {},
   "outputs": [],
   "source": [
    "get_schema(\"catalogue.mer_catalogue\")"
   ]
  },
  {
   "cell_type": "code",
   "execution_count": null,
   "id": "3da9978f",
   "metadata": {},
   "outputs": [],
   "source": [
    "get_schema(\"catalogue.phz_classification\")"
   ]
  },
  {
   "cell_type": "code",
   "execution_count": null,
   "id": "5aeee2a0",
   "metadata": {},
   "outputs": [],
   "source": [
    "get_schema(\"catalogue.phz_photo_z\")"
   ]
  },
  {
   "cell_type": "code",
   "execution_count": null,
   "id": "0c266c2a",
   "metadata": {},
   "outputs": [],
   "source": [
    "# Write query for Euclid data in ECDFS\n",
    "\n",
    "# Cone centered on DP1 ECDFS\n",
    "c_ra = 53.13\n",
    "c_dec = -28.10\n",
    "r = 0.7\n",
    "\n",
    "query = f\"\"\"\n",
    "SELECT\n",
    "    m.object_id as euclid_id,\n",
    "    m.right_ascension,\n",
    "    m.declination,\n",
    "    pz.flux_vis_unif,\n",
    "    pz.flux_y_unif,\n",
    "    pz.flux_j_unif,\n",
    "    pz.flux_h_unif,\n",
    "    pz.fluxerr_vis_unif,\n",
    "    pz.fluxerr_y_unif,\n",
    "    pz.fluxerr_j_unif,\n",
    "    pz.fluxerr_h_unif\n",
    "FROM\n",
    "    catalogue.mer_catalogue as m\n",
    "JOIN catalogue.phz_photo_z AS pz USING (object_id)\n",
    "JOIN catalogue.phz_classification AS pc USING (object_id)\n",
    "WHERE\n",
    "    DISTANCE({c_ra}, {c_dec}, m.right_ascension, m.declination) < {r}\n",
    "    AND m.spurious_flag = 0\n",
    "    AND m.det_quality_flag < 4\n",
    "    AND pc.phz_classification = 2\n",
    "    AND m.vis_det = 1\n",
    "    AND pz.phz_flags = 0\n",
    "\"\"\""
   ]
  },
  {
   "cell_type": "code",
   "execution_count": null,
   "id": "c82b8033",
   "metadata": {},
   "outputs": [],
   "source": [
    "job = Euclid.launch_job_async(\n",
    "    query,\n",
    "    dump_to_file=True,\n",
    "    output_file=\"../data/euclid_ecdfs.fits\",\n",
    "    output_format=\"fits\",\n",
    "    verbose=False,\n",
    ")"
   ]
  },
  {
   "cell_type": "code",
   "execution_count": null,
   "id": "35d5187d",
   "metadata": {},
   "outputs": [],
   "source": []
  }
 ],
 "metadata": {
  "kernelspec": {
   "display_name": "dp1_lbgs",
   "language": "python",
   "name": "python3"
  },
  "language_info": {
   "codemirror_mode": {
    "name": "ipython",
    "version": 3
   },
   "file_extension": ".py",
   "mimetype": "text/x-python",
   "name": "python",
   "nbconvert_exporter": "python",
   "pygments_lexer": "ipython3",
   "version": "3.13.7"
  }
 },
 "nbformat": 4,
 "nbformat_minor": 5
}
