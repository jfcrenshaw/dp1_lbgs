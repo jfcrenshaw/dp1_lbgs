{
 "cells": [
  {
   "cell_type": "code",
   "execution_count": null,
   "id": "5bf71188",
   "metadata": {},
   "outputs": [],
   "source": [
    "import pandas as pd\n",
    "import numpy as np\n",
    "import matplotlib.pyplot as plt"
   ]
  },
  {
   "cell_type": "code",
   "execution_count": null,
   "id": "f8475c6e",
   "metadata": {},
   "outputs": [],
   "source": [
    "# Load the processed data\n",
    "df = pd.read_parquet(\"../data/dp1_processed_full.pq\")\n",
    "\n",
    "# Get spectroscopic and photometric redshifts\n",
    "z_cat = df.query(\"zspec_survey != '-'\")\n",
    "zspec = z_cat.z_best\n",
    "zphot = np.median(z_cat[[\"z_LePhare\", \"z_EAzY\", \"z_z-phot\"]], axis=1)"
   ]
  },
  {
   "cell_type": "code",
   "execution_count": null,
   "id": "1bbd1d83",
   "metadata": {},
   "outputs": [],
   "source": [
    "fig, axes = plt.subplot_mosaic(\n",
    "    \"\"\"\n",
    "    zzpp\n",
    "    zzss\n",
    "    \"\"\",\n",
    "    figsize=(7, 3.0),\n",
    "    dpi=150,\n",
    ")\n",
    "\n",
    "\n",
    "u = (2.25, 3.25)\n",
    "g = (3.25, 4.25)\n",
    "r = (4.25, 5.25)\n",
    "\n",
    "# Plot photo-z vs spec-z\n",
    "# ----------------------\n",
    "axes[\"z\"].scatter(zspec, zphot, s=1, marker=\".\")\n",
    "\n",
    "settings = dict(lw=0, alpha=0.25, zorder=-1)\n",
    "axes[\"z\"].fill_between(u, 0, u[1], color=\"C4\", **settings)\n",
    "axes[\"z\"].fill_between([0, u[0]], u[0], u[1], color=\"C4\", **settings)\n",
    "\n",
    "axes[\"z\"].fill_between(g, 0, g[1], color=\"C2\", **settings)\n",
    "axes[\"z\"].fill_between([0, g[0]], g[0], g[1], color=\"C2\", **settings)\n",
    "\n",
    "axes[\"z\"].fill_between(r, 0, r[1], color=\"C3\", **settings)\n",
    "axes[\"z\"].fill_between([0, r[0]], r[0], r[1], color=\"C3\", **settings)\n",
    "\n",
    "axes[\"z\"].set(\n",
    "    xlim=(0, 5.1), ylim=(0, 5.1), xlabel=\"Spec-z\", ylabel=\"Photo-z\", aspect=\"equal\"\n",
    ")\n",
    "\n",
    "# Plot histograms of photo-z and spec-z selections\n",
    "# ------------------------------------------------\n",
    "settings = dict(lw=1, histtype=\"step\", bins=20, range=(0, 5.1), density=True)\n",
    "\n",
    "axes[\"p\"].hist(zphot[(zspec > u[0]) & (zspec < u[1])], color=\"C4\", **settings)\n",
    "axes[\"p\"].hist(zphot[(zspec > g[0]) & (zspec < g[1])], color=\"C2\", **settings)\n",
    "axes[\"p\"].hist(zphot[(zspec > r[0]) & (zspec < r[1])], color=\"C3\", **settings)\n",
    "axes[\"p\"].set(xlabel=\"Photo-z\", ylabel=\"Density\", xlim=(-0.1, 5.2))\n",
    "axes[\"p\"].text(0.1, 1.6, \"Spec-z selection\")\n",
    "\n",
    "axes[\"s\"].hist(zspec[(zphot > u[0]) & (zphot < u[1])], color=\"C4\", **settings)\n",
    "axes[\"s\"].hist(zspec[(zphot > g[0]) & (zphot < g[1])], color=\"C2\", **settings)\n",
    "axes[\"s\"].hist(zspec[(zphot > r[0]) & (zphot < r[1])], color=\"C3\", **settings)\n",
    "axes[\"s\"].set(xlabel=\"Spec-z\", ylabel=\"Density\", xlim=(-0.1, 5.2))\n",
    "axes[\"s\"].text(0.1, 1.4, \"Photo-z selection\")\n",
    "\n",
    "fig.subplots_adjust(wspace=0.9, hspace=0.65)\n",
    "\n",
    "fig.savefig(\"../figures/astrodeep_photoz.pdf\", bbox_inches=\"tight\")"
   ]
  },
  {
   "cell_type": "code",
   "execution_count": null,
   "id": "1b5b75af",
   "metadata": {},
   "outputs": [],
   "source": []
  }
 ],
 "metadata": {
  "kernelspec": {
   "display_name": "dp1_lbgs",
   "language": "python",
   "name": "python3"
  },
  "language_info": {
   "codemirror_mode": {
    "name": "ipython",
    "version": 3
   },
   "file_extension": ".py",
   "mimetype": "text/x-python",
   "name": "python",
   "nbconvert_exporter": "python",
   "pygments_lexer": "ipython3",
   "version": "3.13.7"
  }
 },
 "nbformat": 4,
 "nbformat_minor": 5
}
